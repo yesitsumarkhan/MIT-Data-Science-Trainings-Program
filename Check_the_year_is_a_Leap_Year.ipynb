{
  "nbformat": 4,
  "nbformat_minor": 0,
  "metadata": {
    "colab": {
      "name": "Check the year is a Leap Year.ipynb",
      "provenance": []
    },
    "kernelspec": {
      "name": "python3",
      "display_name": "Python 3"
    },
    "language_info": {
      "name": "python"
    }
  },
  "cells": [
    {
      "cell_type": "code",
      "metadata": {
        "colab": {
          "base_uri": "https://localhost:8080/"
        },
        "id": "kviW8i1GDBxm",
        "outputId": "6fb96fbe-7322-4149-cbda-81b0bbf9bbf5"
      },
      "source": [
        "year = int(input('Enter year to check'))  \n",
        "if year % 100 == 0:\n",
        "   if year % 400 == 0:\n",
        "     print('The year',year,'is a leap year')\n",
        "\n",
        "elif year % 4==0:\n",
        "  print('The year',year,'is a leap year')     \n",
        "\n",
        "else:\n",
        "  print('The year',year,'is NOT a leap year')  \n"
      ],
      "execution_count": 6,
      "outputs": [
        {
          "output_type": "stream",
          "text": [
            "Enter year to check2025\n",
            "The year 2025 is NOT a leap year\n"
          ],
          "name": "stdout"
        }
      ]
    }
  ]
}